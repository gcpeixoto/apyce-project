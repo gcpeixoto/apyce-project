{
 "cells": [
  {
   "cell_type": "markdown",
   "metadata": {},
   "source": [
    "APyCE Project: Getting started guide\n",
    "=============================================================================================="
   ]
  },
  {
   "cell_type": "markdown",
   "metadata": {},
   "source": [
    "### Results: Visualization of porosity and permx field for the model PSY-LaMEP/UFPB"
   ]
  },
  {
   "cell_type": "markdown",
   "metadata": {},
   "source": [
    "<img src = \"../img/PSY_Model.png\" width=\"100%\">"
   ]
  },
  {
   "cell_type": "markdown",
   "metadata": {},
   "source": [
    "### Import APyCE module\n",
    "The APyCE module has two classes, however, only the Model class is used by the user."
   ]
  },
  {
   "cell_type": "code",
   "execution_count": 1,
   "metadata": {},
   "outputs": [],
   "source": [
    "from APyCE import Model"
   ]
  },
  {
   "cell_type": "markdown",
   "metadata": {},
   "source": [
    "### Using\n",
    "#### Reading a file\n",
    "When the user executes the line below, the file is loaded and all keywords are readed."
   ]
  },
  {
   "cell_type": "code",
   "execution_count": 2,
   "metadata": {
    "scrolled": true,
    "tags": []
   },
   "outputs": [
    {
     "name": "stdout",
     "output_type": "stream",
     "text": [
      "[INPUT] Reading input ECLIPSE/BUILDER file...\n",
      "\n",
      "[+] Reading keyword SPECGRID\n",
      "[+] Unrecognized keyword found COORDSYS\n",
      "[+] Reading keyword COORD\n",
      "[+] Reading keyword ZCORN\n",
      "[+] Reading keyword ACTNUM\n",
      "[+] Reading keyword INCLUDE\n",
      "\t--> ./PSY/PORO.INC\n",
      "[+] Reading keyword PORO\n",
      "\t<-- ./PSY/PORO.INC\n",
      "[+] Reading keyword INCLUDE\n",
      "\t--> ./PSY/PERMX.INC\n",
      "[+] Reading keyword PERMX\n",
      "\t<-- ./PSY/PERMX.INC\n",
      "[+] Reading keyword INCLUDE\n",
      "\t--> ./PSY/PERMY.INC\n",
      "[+] Reading keyword PERMY\n",
      "\t<-- ./PSY/PERMY.INC\n",
      "[+] Reading keyword INCLUDE\n",
      "\t--> ./PSY/PERMZ.INC\n",
      "[+] Reading keyword PERMZ\n",
      "\t<-- ./PSY/PERMZ.INC\n",
      "[+] Reading keyword INCLUDE\n",
      "\t--> ./PSY/SO.INC\n",
      "[+] Reading keyword SO\n",
      "\t<-- ./PSY/SO.INC\n",
      "[+] Reading keyword INCLUDE\n",
      "\t--> ./PSY/INIT_PRESS.INC\n",
      "[+] Unrecognized keyword found PRESSURE\n",
      "\t<-- ./PSY/INIT_PRESS.INC\n"
     ]
    }
   ],
   "source": [
    "G = Model('./Data/PSY.grdecl', 'Eclipse')"
   ]
  },
  {
   "cell_type": "markdown",
   "metadata": {},
   "source": [
    "#### Printing the structure\n",
    "If the user needs to visualize the data, he can do it with the line below."
   ]
  },
  {
   "cell_type": "code",
   "execution_count": 3,
   "metadata": {
    "tags": []
   },
   "outputs": [
    {
     "name": "stdout",
     "output_type": "stream",
     "text": [
      "\n",
      "MODEL DATA\n",
      "cartDims = [ 22  74 350]\n",
      "numCell = 569800\n",
      "keywords = ['SPECGRID', 'COORD', 'ZCORN', 'ACTNUM', 'INCLUDE', 'PORO', 'PERMX', 'PERMY', 'PERMZ', 'SO']\n",
      "unrec = ['COORDSYS', 'PRESSURE']\n",
      "\n"
     ]
    }
   ],
   "source": [
    "print(G)"
   ]
  },
  {
   "cell_type": "markdown",
   "metadata": {},
   "source": [
    "#### Processing the grid"
   ]
  },
  {
   "cell_type": "code",
   "execution_count": 4,
   "metadata": {
    "tags": []
   },
   "outputs": [
    {
     "name": "stdout",
     "output_type": "stream",
     "text": [
      "\n",
      "[PROCESS] Converting GRDECL grid to Paraview VTK...\n",
      "\n",
      "[+] Creating VTK Points...\n",
      "\t[+] Detected 0 collapsed pillars. Treated as vertical...\n",
      "\n",
      "[+] Creating VTK Cells...\n",
      "\tInserting data [ACTNUM] into vtk array\n",
      "\tInserting data [PERMX] into vtk array\n",
      "\tInserting data [PERMY] into vtk array\n",
      "\tInserting data [PERMZ] into vtk array\n",
      "\tInserting data [PORO] into vtk array\n",
      "\tInserting data [SO] into vtk array\n"
     ]
    }
   ],
   "source": [
    "G.process_grdecl()"
   ]
  },
  {
   "cell_type": "markdown",
   "metadata": {},
   "source": [
    "#### Read data from another file"
   ]
  },
  {
   "cell_type": "code",
   "execution_count": 5,
   "metadata": {
    "tags": []
   },
   "outputs": [],
   "source": [
    "#G.load_cell_data('./Data/dome_Temperature.txt', 'TEMP')"
   ]
  },
  {
   "cell_type": "markdown",
   "metadata": {},
   "source": [
    "#### Saving the grid in VTK format"
   ]
  },
  {
   "cell_type": "code",
   "execution_count": 6,
   "metadata": {
    "tags": []
   },
   "outputs": [
    {
     "name": "stdout",
     "output_type": "stream",
     "text": [
      "\n",
      "[OUTPUT] Writing Paraview file \"./Data/Results/PSY.vtk\"...\n"
     ]
    }
   ],
   "source": [
    "G.write_vtk()"
   ]
  }
 ],
 "metadata": {
  "kernelspec": {
   "display_name": "Python 3",
   "language": "python",
   "name": "python3"
  },
  "language_info": {
   "codemirror_mode": {
    "name": "ipython",
    "version": 3
   },
   "file_extension": ".py",
   "mimetype": "text/x-python",
   "name": "python",
   "nbconvert_exporter": "python",
   "pygments_lexer": "ipython3",
   "version": "3.8.3"
  }
 },
 "nbformat": 4,
 "nbformat_minor": 4
}