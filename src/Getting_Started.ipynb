{
 "cells": [
  {
   "cell_type": "markdown",
   "metadata": {},
   "source": [
    "APyCE Project: Getting started guide\n",
    "=============================================================================================="
   ]
  },
  {
   "cell_type": "markdown",
   "metadata": {},
   "source": [
    "### Results: Visualization of porosity and permx field for the model PSY/LaMEP/UFPB"
   ]
  },
  {
   "cell_type": "markdown",
   "metadata": {},
   "source": [
    "<img src = \"../img/PSY_Model.png\" width=\"100%\">"
   ]
  },
  {
   "cell_type": "markdown",
   "metadata": {},
   "source": [
    "### Import APyCE module\n",
    "The APyCE module has two classes, however, only the Model class is used by the user."
   ]
  },
  {
   "cell_type": "code",
   "execution_count": 1,
   "metadata": {},
   "outputs": [],
   "source": [
    "from APyCE import Model"
   ]
  },
  {
   "cell_type": "markdown",
   "metadata": {},
   "source": [
    "### Using\n",
    "#### Reading a file\n",
    "When the user executes the line below, the file is loaded and all keywords are readed."
   ]
  },
  {
   "cell_type": "code",
   "execution_count": 2,
   "metadata": {
    "scrolled": true,
    "tags": []
   },
   "outputs": [
    {
     "output_type": "stream",
     "name": "stdout",
     "text": [
      "[INPUT] Reading input ECLIPSE/BUILDER file...\n\n[+] Unrecognized keyword found NOECHO\n[+] Unrecognized keyword found PINCH\n[+] Unrecognized keyword found MAPUNITS\n[+] Unrecognized keyword found MAPAXES\n[+] Unrecognized keyword found GRIDUNIT\n[+] Reading keyword SPECGRID\n[+] Reading keyword COORD\n[+] Reading keyword ZCORN\n[+] Unrecognized keyword found ECHO\n[+] Reading keyword PORO\n[+] Reading keyword PERMX\n[+] Reading keyword PERMY\n[+] Reading keyword PERMZ\n"
     ]
    }
   ],
   "source": [
    "G = Model('./Data/dome.grdecl', 'Eclipse')"
   ]
  },
  {
   "cell_type": "markdown",
   "metadata": {},
   "source": [
    "#### Printing the structure\n",
    "If the user needs to visualize the data, he can do it with the line below."
   ]
  },
  {
   "cell_type": "code",
   "execution_count": 3,
   "metadata": {
    "tags": []
   },
   "outputs": [
    {
     "output_type": "stream",
     "name": "stdout",
     "text": [
      "\nMODEL DATA\ncartDims = [20 20  4]\nnumCell = 1600\nkeywords = ['SPECGRID', 'COORD', 'ZCORN', 'PORO', 'PERMX', 'PERMY', 'PERMZ']\nunrec = ['NOECHO', 'PINCH', 'MAPUNITS', 'MAPAXES', 'GRIDUNIT', 'ECHO']\n\n"
     ]
    }
   ],
   "source": [
    "print(G)"
   ]
  },
  {
   "cell_type": "markdown",
   "metadata": {},
   "source": [
    "#### Processing the grid"
   ]
  },
  {
   "cell_type": "code",
   "execution_count": 4,
   "metadata": {
    "tags": []
   },
   "outputs": [
    {
     "output_type": "stream",
     "name": "stdout",
     "text": [
      "\n",
      "[PROCESS] Converting GRDECL grid to Paraview VTK format...\n",
      "\n",
      "[+] Creating VTK Points...\n",
      "\t[+] Detected 544 collapsed pillars.\n",
      "\n",
      "[+] Creating VTK Cells...\n",
      "\tInserting data [PERMX] into vtk array\n",
      "\tInserting data [PERMY] into vtk array\n",
      "\tInserting data [PERMZ] into vtk array\n",
      "\tInserting data [PORO] into vtk array\n"
     ]
    }
   ],
   "source": [
    "G.process_grdecl()"
   ]
  },
  {
   "cell_type": "markdown",
   "metadata": {},
   "source": [
    "#### Read data from another file"
   ]
  },
  {
   "cell_type": "code",
   "execution_count": 5,
   "metadata": {
    "tags": []
   },
   "outputs": [
    {
     "output_type": "stream",
     "name": "stdout",
     "text": [
      "\tInserting data [PERMX] into vtk array\n\tInserting data [PERMY] into vtk array\n\tInserting data [PERMZ] into vtk array\n\tInserting data [PORO] into vtk array\n\tInserting data [TEMP] into vtk array\n"
     ]
    }
   ],
   "source": [
    "G.load_cell_data('./Data/dome_Temperature.txt', 'TEMP')"
   ]
  },
  {
   "cell_type": "markdown",
   "metadata": {},
   "source": [
    "#### Saving the grid in VTK format"
   ]
  },
  {
   "cell_type": "code",
   "execution_count": 6,
   "metadata": {
    "tags": []
   },
   "outputs": [
    {
     "output_type": "stream",
     "name": "stdout",
     "text": [
      "\n[OUTPUT] Writing Paraview file \"./Data/Results/dome.vtk\"...\n"
     ]
    }
   ],
   "source": [
    "G.write_vtk()"
   ]
  },
  {
   "cell_type": "code",
   "execution_count": null,
   "metadata": {},
   "outputs": [],
   "source": []
  }
 ],
 "metadata": {
  "kernelspec": {
   "name": "python3",
   "display_name": "Python 3.7.10 64-bit ('apyce': conda)",
   "metadata": {
    "interpreter": {
     "hash": "d32bfd755bbbd964d209776850a80a5293ece850f4c222356b5d1072e267bfa6"
    }
   }
  },
  "language_info": {
   "codemirror_mode": {
    "name": "ipython",
    "version": 3
   },
   "file_extension": ".py",
   "mimetype": "text/x-python",
   "name": "python",
   "nbconvert_exporter": "python",
   "pygments_lexer": "ipython3",
   "version": "3.7.10-final"
  }
 },
 "nbformat": 4,
 "nbformat_minor": 4
}