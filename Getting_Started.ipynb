{
 "cells": [
  {
   "cell_type": "markdown",
   "metadata": {},
   "source": [
    "APyCE Project: Getting started guide\n",
    "=============================================================================================="
   ]
  },
  {
   "cell_type": "markdown",
   "metadata": {},
   "source": [
    "### Results: Visualization of porosity and permx field for the model PSY/LaMEP/UFPB"
   ]
  },
  {
   "cell_type": "markdown",
   "metadata": {},
   "source": [
    "<img src = \"../img/PSY_Model.png\" width=\"100%\">"
   ]
  },
  {
   "cell_type": "markdown",
   "metadata": {},
   "source": [
    "### Import APyCE module\n",
    "The APyCE module has two classes, however, only the Model class is used by the user."
   ]
  },
  {
   "cell_type": "code",
   "execution_count": 1,
   "metadata": {},
   "outputs": [],
   "source": [
    "from src.APyCE import Model"
   ]
  },
  {
   "cell_type": "markdown",
   "metadata": {},
   "source": [
    "### Using\n",
    "#### Reading a file\n",
    "When the user executes the line below, the file is loaded and all keywords are readed."
   ]
  },
  {
   "cell_type": "code",
   "execution_count": 2,
   "metadata": {
    "scrolled": true,
    "tags": []
   },
   "outputs": [
    {
     "output_type": "stream",
     "name": "stdout",
     "text": [
      "[INPUT] Reading input ECLIPSE file...\n",
      "\n",
      "[+] Reading keyword SPECGRID\n",
      "[+] Unrecognized keyword found COORDSYS\n",
      "[+] Reading keyword COORD\n",
      "[+] Reading keyword ZCORN\n",
      "[+] Reading keyword ACTNUM\n",
      "[+] Reading keyword INCLUDE\n",
      "\t--> PORO.INC\n",
      "\t<-- PORO.INC\n",
      "[+] Reading keyword INCLUDE\n",
      "\t--> PERMX.INC\n",
      "\t<-- PERMX.INC\n",
      "[+] Reading keyword INCLUDE\n",
      "\t--> PERMY.INC\n",
      "\t<-- PERMY.INC\n",
      "[+] Reading keyword INCLUDE\n",
      "\t--> PERMZ.INC\n",
      "\t<-- PERMZ.INC\n",
      "[+] Reading keyword INCLUDE\n",
      "\t--> SO.INC\n",
      "\t<-- SO.INC\n",
      "[+] Reading keyword INCLUDE\n",
      "\t--> INIT_PRESS.INC\n",
      "\t<-- INIT_PRESS.INC\n"
     ]
    }
   ],
   "source": [
    "G = Model('./src/Data/PSY.grdecl', 'Eclipse')"
   ]
  },
  {
   "cell_type": "markdown",
   "metadata": {},
   "source": [
    "#### Printing the structure\n",
    "If the user needs to visualize the data, he can do it with the line below."
   ]
  },
  {
   "cell_type": "code",
   "execution_count": 3,
   "metadata": {
    "tags": []
   },
   "outputs": [
    {
     "output_type": "stream",
     "name": "stdout",
     "text": [
      "\nMODEL DATA\ncartDims = [ 22  74 350]\nnumCell = 569800\nkeywords = ['SPECGRID', 'COORD', 'ZCORN', 'ACTNUM', 'INCLUDE', 'PORO', 'PERMX', 'PERMY', 'PERMZ', 'SO']\nunrec = ['COORDSYS', 'PRESSURE']\n\n"
     ]
    }
   ],
   "source": [
    "print(G)"
   ]
  },
  {
   "cell_type": "markdown",
   "metadata": {},
   "source": [
    "#### Processing the grid"
   ]
  },
  {
   "cell_type": "code",
   "execution_count": 4,
   "metadata": {
    "tags": []
   },
   "outputs": [
    {
     "output_type": "stream",
     "name": "stdout",
     "text": [
      "\n",
      "[PROCESS] Converting GRDECL grid to Paraview VTK format...\n",
      "\n",
      "[+] Creating VTK Points...\n",
      "\t[+] Detected 0 collapsed pillars.\n",
      "\t[+] Detected 105797 active cells and 464003 inactive cells.\n",
      "\n",
      "[+] Creating VTK Cells...\n",
      "\tInserting data [ACTNUM] into vtk array\n",
      "\tInserting data [PERMX] into vtk array\n",
      "\tInserting data [PERMY] into vtk array\n",
      "\tInserting data [PERMZ] into vtk array\n",
      "\tInserting data [PORO] into vtk array\n",
      "\tInserting data [SO] into vtk array\n"
     ]
    }
   ],
   "source": [
    "G.process_grdecl()"
   ]
  },
  {
   "cell_type": "markdown",
   "metadata": {},
   "source": [
    "#### Read data from another file"
   ]
  },
  {
   "cell_type": "code",
   "execution_count": null,
   "metadata": {
    "tags": []
   },
   "outputs": [],
   "source": [
    "#G.load_cell_data('./Data/dome_Temperature.txt', 'TEMP')"
   ]
  },
  {
   "cell_type": "markdown",
   "metadata": {},
   "source": [
    "#### Saving the grid in VTU format"
   ]
  },
  {
   "cell_type": "code",
   "execution_count": 5,
   "metadata": {
    "tags": []
   },
   "outputs": [
    {
     "output_type": "stream",
     "name": "stdout",
     "text": [
      "\n[OUTPUT] Writing Paraview file \"/Results/PSY.vtu\"...\n"
     ]
    }
   ],
   "source": [
    "G.write_vtu()"
   ]
  }
 ],
 "metadata": {
  "kernelspec": {
   "name": "python3",
   "display_name": "Python 3.7.10 64-bit ('apyce': conda)",
   "metadata": {
    "interpreter": {
     "hash": "d32bfd755bbbd964d209776850a80a5293ece850f4c222356b5d1072e267bfa6"
    }
   }
  },
  "language_info": {
   "codemirror_mode": {
    "name": "ipython",
    "version": 3
   },
   "file_extension": ".py",
   "mimetype": "text/x-python",
   "name": "python",
   "nbconvert_exporter": "python",
   "pygments_lexer": "ipython3",
   "version": "3.7.10-final"
  }
 },
 "nbformat": 4,
 "nbformat_minor": 4
}